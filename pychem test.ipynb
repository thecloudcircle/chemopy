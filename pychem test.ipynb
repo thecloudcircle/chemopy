{
 "cells": [
  {
   "cell_type": "code",
   "execution_count": 1,
   "metadata": {},
   "outputs": [
    {
     "name": "stderr",
     "output_type": "stream",
     "text": [
      "RDKit WARNING: [11:49:36] Enabling RDKit 2019.09.3 jupyter extensions\n"
     ]
    }
   ],
   "source": [
    "from pychem import basak, bcut, charge, connectivity, constitution, estate, fingerprint, kappa, moe, molproperty, moran, moreaubroto, topology\n",
    "from rdkit import Chem"
   ]
  },
  {
   "cell_type": "code",
   "execution_count": 2,
   "metadata": {},
   "outputs": [],
   "source": [
    "m = Chem.MolFromSmiles('Cc1ccccc1')"
   ]
  },
  {
   "cell_type": "code",
   "execution_count": 5,
   "metadata": {},
   "outputs": [
    {
     "name": "stdout",
     "output_type": "stream",
     "text": [
      "{'CIC0': 2.91, 'CIC1': 2.374, 'CIC2': 1.541, 'CIC3': 1.675, 'CIC4': 1.834, 'CIC5': 1.758, 'CIC6': 1.574, 'SIC0': 0.255, 'SIC1': 0.392, 'SIC2': 0.605, 'SIC3': 0.571, 'SIC4': 0.531, 'SIC5': 0.55, 'SIC6': 0.597, 'IC0': 0.997, 'IC1': 1.533, 'IC2': 2.366, 'IC3': 2.232, 'IC4': 2.073, 'IC5': 2.149, 'IC6': 2.333}\n",
      "\n",
      "{'bcutm16': 0.0, 'bcutm15': 0.0, 'bcutm14': 0.232, 'bcutm13': 0.311, 'bcutm12': 0.831, 'bcutm11': 1.082, 'bcutm10': 1.411, 'bcutm9': 1.967, 'bcutm8': 0.083, 'bcutm7': 0.308, 'bcutm6': 0.757, 'bcutm5': 0.94, 'bcutm4': 2.072, 'bcutm3': 2.617, 'bcutm2': 2.873, 'bcutm1': 3.773, 'bcutv16': 0.0, 'bcutv15': 0.0, 'bcutv14': 0.039, 'bcutv13': 0.127, 'bcutv12': 0.718, 'bcutv11': 0.996, 'bcutv10': 1.315, 'bcutv9': 1.93, 'bcutv8': 0.298, 'bcutv7': 0.467, 'bcutv6': 0.901, 'bcutv5': 1.069, 'bcutv4': 2.14, 'bcutv3': 2.648, 'bcutv2': 2.909, 'bcutv1': 3.787, 'bcute16': 0.0, 'bcute15': 0.0, 'bcute14': 0.0, 'bcute13': 0.0, 'bcute12': 0.424, 'bcute11': 0.799, 'bcute10': 1.086, 'bcute9': 1.845, 'bcute8': 0.941, 'bcute7': 0.956, 'bcute6': 1.389, 'bcute5': 1.515, 'bcute4': 2.375, 'bcute3': 2.769, 'bcute2': 3.051, 'bcute1': 3.842, 'bcutp16': 0.0, 'bcutp15': 0.0, 'bcutp14': 0.0, 'bcutp13': 0.058, 'bcutp12': 0.677, 'bcutp11': 0.966, 'bcutp10': 1.28, 'bcutp9': 1.917, 'bcutp8': 0.38, 'bcutp7': 0.528, 'bcutp6': 0.959, 'bcutp5': 1.121, 'bcutp4': 2.168, 'bcutp3': 2.661, 'bcutp2': 2.924, 'bcutp1': 3.793}\n",
      "\n",
      "{'SPP': 0.125, 'LDI': 0.005, 'Rnc': 0.157, 'Rpc': 0.158, 'Mac': 0.053, 'Tac': 0.792, 'Mnc': -0.057, 'Tnc': -0.396, 'Mpc': 0.049, 'Tpc': 0.396, 'Qass': 0.045, 'QOss': 0, 'QNss': 0, 'QCss': 0.023, 'QHss': 0.022, 'Qmin': -0.062, 'Qmax': 0.063, 'QOmin': 0, 'QNmin': 0, 'QCmin': -0.062, 'QHmin': 0.028, 'QOmax': 0, 'QNmax': 0, 'QCmax': -0.04, 'QHmax': 0.063}\n",
      "\n",
      "{'Chi0': 5.113, 'Chi1': 3.394, 'mChi1': 0.485, 'Chi2': 2.743, 'Chi3': 1.894, 'Chi4': 1.307, 'Chi5': 0.901, 'Chi6': 0.263, 'Chi7': 0.059, 'Chi8': 0.0, 'Chi9': 0.0, 'Chi10': 0.0, 'Chi3c': 0.289, 'Chi4c': 0.0, 'Chi4pc': 0.408, 'Chi3ch': 0.0, 'Chi4ch': 0.0, 'Chi5ch': 0.0, 'Chi6ch': 0.102, 'knotp': 0.12, 'Chiv0': 4.387, 'Chiv1': 2.411, 'Chiv2': 1.655, 'Chiv3': 0.94, 'Chiv4': 0.534, 'Chiv5': 0.304, 'Chiv6': 0.08, 'Chiv7': 0.016, 'Chiv8': 0.0, 'Chiv9': 0.0, 'Chiv10': 0.0, 'dchi0': 0.726, 'dchi1': 0.983, 'dchi2': 1.088, 'dchi3': 0.953, 'dchi4': 0.772, 'Chiv3c': 0.167, 'Chiv4c': 0.0, 'Chiv4pc': 0.192, 'Chiv3ch': 0.0, 'Chiv4ch': 0.0, 'Chiv5ch': 0.0, 'Chiv6ch': 0.032, 'knotpv': 0.026}\n",
      "\n",
      "{'Weight': 84.077, 'AWeight': 12.011, 'nhyd': 8, 'nhal': 0, 'nhet': 0, 'nhev': 7, 'ncof': 0, 'ncocl': 0, 'ncobr': 0, 'ncoi': 0, 'ncarb': 7, 'nphos': 0, 'nsulph': 0, 'noxy': 0, 'nnitro': 0, 'nring': 1, 'nrot': 0, 'ndonr': 0, 'naccr': 0, 'nsb': 1, 'ndb': 0, 'naro': 6, 'ntb': 0, 'nta': 15, 'PC1': 7, 'PC2': 8, 'PC3': 8, 'PC4': 8, 'PC5': 8, 'PC6': 3}\n",
      "\n",
      "{'S1': 0.0, 'S2': 0.0, 'S3': 0.0, 'S4': 0.0, 'S5': 0.0, 'S6': 0.0, 'S7': 2.083, 'S8': 0.0, 'S9': 0.0, 'S10': 0.0, 'S11': 0.0, 'S12': 10.262, 'S13': 0.0, 'S14': 0.0, 'S15': 0.0, 'S16': 0.0, 'S17': 1.322, 'S18': 0.0, 'S19': 0.0, 'S20': 0.0, 'S21': 0.0, 'S22': 0.0, 'S23': 0.0, 'S24': 0.0, 'S25': 0.0, 'S26': 0.0, 'S27': 0.0, 'S28': 0.0, 'S29': 0.0, 'S30': 0.0, 'S31': 0.0, 'S32': 0.0, 'S33': 0.0, 'S34': 0.0, 'S35': 0.0, 'S36': 0.0, 'S37': 0.0, 'S38': 0.0, 'S39': 0.0, 'S40': 0.0, 'S41': 0.0, 'S42': 0.0, 'S43': 0.0, 'S44': 0.0, 'S45': 0.0, 'S46': 0.0, 'S47': 0.0, 'S48': 0.0, 'S49': 0.0, 'S50': 0.0, 'S51': 0.0, 'S52': 0.0, 'S53': 0.0, 'S54': 0.0, 'S55': 0.0, 'S56': 0.0, 'S57': 0.0, 'S58': 0.0, 'S59': 0.0, 'S60': 0.0, 'S61': 0.0, 'S62': 0.0, 'S63': 0.0, 'S64': 0.0, 'S65': 0.0, 'S66': 0.0, 'S67': 0.0, 'S68': 0.0, 'S69': 0.0, 'S70': 0.0, 'S71': 0.0, 'S72': 0.0, 'S73': 0.0, 'S74': 0.0, 'S75': 0.0, 'S76': 0.0, 'S77': 0.0, 'S78': 0.0, 'S79': 0.0, 'Smax0': 0, 'Smax1': 0, 'Smax2': 0, 'Smax3': 0, 'Smax4': 0, 'Smax5': 0, 'Smax6': 2.083, 'Smax7': 0, 'Smax8': 0, 'Smax9': 0, 'Smax10': 0, 'Smax11': 2.083, 'Smax12': 0, 'Smax13': 0, 'Smax14': 0, 'Smax15': 0, 'Smax16': 1.322, 'Smax17': 0, 'Smax18': 0, 'Smax19': 0, 'Smax20': 0, 'Smax21': 0, 'Smax22': 0, 'Smax23': 0, 'Smax24': 0, 'Smax25': 0, 'Smax26': 0, 'Smax27': 0, 'Smax28': 0, 'Smax29': 0, 'Smax30': 0, 'Smax31': 0, 'Smax32': 0, 'Smax33': 0, 'Smax34': 0, 'Smax35': 0, 'Smax36': 0, 'Smax37': 0, 'Smax38': 0, 'Smax39': 0, 'Smax40': 0, 'Smax41': 0, 'Smax42': 0, 'Smax43': 0, 'Smax44': 0, 'Smax45': 0, 'Smax46': 0, 'Smax47': 0, 'Smax48': 0, 'Smax49': 0, 'Smax50': 0, 'Smax51': 0, 'Smax52': 0, 'Smax53': 0, 'Smax54': 0, 'Smax55': 0, 'Smax56': 0, 'Smax57': 0, 'Smax58': 0, 'Smax59': 0, 'Smax60': 0, 'Smax61': 0, 'Smax62': 0, 'Smax63': 0, 'Smax64': 0, 'Smax65': 0, 'Smax66': 0, 'Smax67': 0, 'Smax68': 0, 'Smax69': 0, 'Smax70': 0, 'Smax71': 0, 'Smax72': 0, 'Smax73': 0, 'Smax74': 0, 'Smax75': 0, 'Smax76': 0, 'Smax77': 0, 'Smax78': 0, 'Smin0': 0, 'Smin1': 0, 'Smin2': 0, 'Smin3': 0, 'Smin4': 0, 'Smin5': 0, 'Smin6': 2.083, 'Smin7': 0, 'Smin8': 0, 'Smin9': 0, 'Smin10': 0, 'Smin11': 2.021, 'Smin12': 0, 'Smin13': 0, 'Smin14': 0, 'Smin15': 0, 'Smin16': 1.322, 'Smin17': 0, 'Smin18': 0, 'Smin19': 0, 'Smin20': 0, 'Smin21': 0, 'Smin22': 0, 'Smin23': 0, 'Smin24': 0, 'Smin25': 0, 'Smin26': 0, 'Smin27': 0, 'Smin28': 0, 'Smin29': 0, 'Smin30': 0, 'Smin31': 0, 'Smin32': 0, 'Smin33': 0, 'Smin34': 0, 'Smin35': 0, 'Smin36': 0, 'Smin37': 0, 'Smin38': 0, 'Smin39': 0, 'Smin40': 0, 'Smin41': 0, 'Smin42': 0, 'Smin43': 0, 'Smin44': 0, 'Smin45': 0, 'Smin46': 0, 'Smin47': 0, 'Smin48': 0, 'Smin49': 0, 'Smin50': 0, 'Smin51': 0, 'Smin52': 0, 'Smin53': 0, 'Smin54': 0, 'Smin55': 0, 'Smin56': 0, 'Smin57': 0, 'Smin58': 0, 'Smin59': 0, 'Smin60': 0, 'Smin61': 0, 'Smin62': 0, 'Smin63': 0, 'Smin64': 0, 'Smin65': 0, 'Smin66': 0, 'Smin67': 0, 'Smin68': 0, 'Smin69': 0, 'Smin70': 0, 'Smin71': 0, 'Smin72': 0, 'Smin73': 0, 'Smin74': 0, 'Smin75': 0, 'Smin76': 0, 'Smin77': 0, 'Smin78': 0, 'Shev': 13.667, 'Scar': 13.66666666666667, 'Shal': 0.0, 'Shet': 0.0, 'Save': 1.952, 'Smax': 2.083, 'Smin': 1.322, 'DS': 0.762}\n",
      "\n",
      "(166, {160: 1, 162: 1, 163: 1, 165: 1}, <rdkit.DataStructs.cDataStructs.ExplicitBitVect object at 0x7f5c4fb82120>)\n",
      "\n",
      "{'kappa1': 5.143, 'kappa2': 2.344, 'kappa3': 1.5, 'kappam1': 4.381, 'kappam2': 1.783, 'kappam3': 1.038, 'phi': 1.116}\n",
      "\n",
      "{'LabuteASA': 43.796, 'TPSA1': 0.0, 'slogPVSA0': 0.0, 'slogPVSA1': 0.0, 'slogPVSA2': 0.0, 'slogPVSA3': 6.924, 'slogPVSA4': 5.563, 'slogPVSA5': 30.332, 'slogPVSA6': 0.0, 'slogPVSA7': 0.0, 'slogPVSA8': 0.0, 'slogPVSA9': 0.0, 'slogPVSA10': 0.0, 'slogPVSA11': 0.0, 'MRVSA0': 0.0, 'MRVSA1': 0.0, 'MRVSA2': 0.0, 'MRVSA3': 0.0, 'MRVSA4': 6.924, 'MRVSA5': 0.0, 'MRVSA6': 35.895, 'MRVSA7': 0.0, 'MRVSA8': 0.0, 'MRVSA9': 0.0, 'PEOEVSA0': 0.0, 'PEOEVSA1': 0.0, 'PEOEVSA2': 0.0, 'PEOEVSA3': 0.0, 'PEOEVSA4': 0.0, 'PEOEVSA5': 35.895, 'PEOEVSA6': 6.924, 'PEOEVSA7': 0.0, 'PEOEVSA8': 0.0, 'PEOEVSA9': 0.0, 'PEOEVSA10': 0.0, 'PEOEVSA11': 0.0, 'PEOEVSA12': 0.0, 'PEOEVSA13': 0.0, 'EstateVSA0': 0.0, 'EstateVSA1': 0.0, 'EstateVSA2': 0.0, 'EstateVSA3': 0.0, 'EstateVSA4': 5.563, 'EstateVSA5': 0.0, 'EstateVSA6': 18.199, 'EstateVSA7': 19.056, 'EstateVSA8': 0.0, 'EstateVSA9': 0.0, 'EstateVSA10': 0.0, 'VSAEstate0': 0.0, 'VSAEstate1': 0.0, 'VSAEstate2': 0.0, 'VSAEstate3': 1.322, 'VSAEstate4': 0.0, 'VSAEstate5': 10.262, 'VSAEstate6': 0.0, 'VSAEstate7': 2.083, 'VSAEstate8': 0.0, 'VSAEstate9': 0.0}\n",
      "\n",
      "{'MATSm1': 0, 'MATSm2': 0, 'MATSm3': 0, 'MATSm4': 0, 'MATSm5': 0, 'MATSm6': 0, 'MATSm7': 0, 'MATSm8': 0, 'MATSv1': 0, 'MATSv2': 0, 'MATSv3': 0, 'MATSv4': 0, 'MATSv5': 0, 'MATSv6': 0, 'MATSv7': 0, 'MATSv8': 0, 'MATSe1': 0, 'MATSe2': 0, 'MATSe3': 0, 'MATSe4': 0, 'MATSe5': 0, 'MATSe6': 0, 'MATSe7': 0, 'MATSe8': 0, 'MATSp1': 0, 'MATSp2': 0, 'MATSp3': 0, 'MATSp4': 0, 'MATSp5': 0, 'MATSp6': 0, 'MATSp7': 0, 'MATSp8': 0}\n",
      "\n",
      "{'ATSm1': 2.079, 'ATSm2': 2.197, 'ATSm3': 1.792, 'ATSm4': 0.693, 'ATSm5': 0.0, 'ATSm6': 0.0, 'ATSm7': 0.0, 'ATSm8': 0.0, 'ATSv1': 2.079, 'ATSv2': 2.197, 'ATSv3': 1.792, 'ATSv4': 0.693, 'ATSv5': 0.0, 'ATSv6': 0.0, 'ATSv7': 0.0, 'ATSv8': 0.0, 'ATSe1': 2.079, 'ATSe2': 2.197, 'ATSe3': 1.792, 'ATSe4': 0.693, 'ATSe5': 0.0, 'ATSe6': 0.0, 'ATSe7': 0.0, 'ATSe8': 0.0, 'ATSp1': 2.079, 'ATSp2': 2.197, 'ATSp3': 1.792, 'ATSp4': 0.693, 'ATSp5': 0.0, 'ATSp6': 0.0, 'ATSp7': 0.0, 'ATSp8': 0.0}\n",
      "\n",
      "{'W': 42.0, 'AW': 2.0, 'J': 2.123, 'Tigdi': 2.143, 'Xu': 6.529, 'GMTI': 2.196, 'Pol': 5.0, 'DZ': 14.0, 'Ipc': 1.674, 'BertzCT': 2.114, 'Thara': 12.917, 'Tsch': 193.0, 'ZM1': 30, 'ZM2': 31, 'MZM1': 2.361, 'MZM2': 0.417, 'Qindex': 4.0, 'Platt': 16, 'diametert': 4.0, 'radiust': 3.0, 'petitjeant': 0.25, 'Sito': 4.564, 'Hato': 1.826, 'Geto': 1.919, 'Arto': 2.0, 'ISIZ': 58.603, 'TIAC': 14.952, 'IDET': 17.001, 'IDE': 1.797, 'IVDE': 8.042, 'Gravto': 13.875, 'Hatov': 2.4, 'Sitov': 6.879, 'Getov': 2.672, 'GMTIV': 2.5}\n"
     ]
    }
   ],
   "source": [
    "print(basak.Getbasak(m))\n",
    "print()\n",
    "print(bcut.GetBurden(m))\n",
    "print()\n",
    "print(charge.GetCharge(m))\n",
    "print()\n",
    "print(connectivity.GetConnectivity(m))\n",
    "print()\n",
    "print(constitution.GetConstitutional(m))\n",
    "print()\n",
    "print(estate.GetEstate(m))\n",
    "print()\n",
    "print(fingerprint.CalculateMACCSFingerprint(m))\n",
    "print()\n",
    "print(kappa.GetKappa(m))\n",
    "print()\n",
    "print(moe.GetMOE(m))\n",
    "print()\n",
    "print(moran.GetMoranAuto(m))\n",
    "print()\n",
    "print(moreaubroto.GetMoreauBrotoAuto(m))\n",
    "print()\n",
    "print(topology.GetTopology(m))"
   ]
  }
 ],
 "metadata": {
  "kernelspec": {
   "display_name": "Python 3",
   "language": "python",
   "name": "python3"
  },
  "language_info": {
   "codemirror_mode": {
    "name": "ipython",
    "version": 3
   },
   "file_extension": ".py",
   "mimetype": "text/x-python",
   "name": "python",
   "nbconvert_exporter": "python",
   "pygments_lexer": "ipython3",
   "version": "3.7.9"
  }
 },
 "nbformat": 4,
 "nbformat_minor": 4
}
